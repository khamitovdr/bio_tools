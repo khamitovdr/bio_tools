{
 "cells": [
  {
   "cell_type": "code",
   "execution_count": null,
   "metadata": {},
   "outputs": [],
   "source": [
    "from bioexperiment_suite.experiment.collections import Relation, Statistic\n",
    "from bioexperiment_suite.experiment import Experiment, Condition\n",
    "from bioexperiment_suite.tools import get_connected_devices"
   ]
  },
  {
   "cell_type": "code",
   "execution_count": null,
   "metadata": {},
   "outputs": [],
   "source": [
    "# Define the experiment parameters\n",
    "TOTAL_EXPERIMENT_DURATION_HOURS = 24  # Total duration of the experiment in hours\n",
    "SOLUTION_REFRESH_INTERVAL_MIN = 60  # Interval for refreshing the solution in minutes\n",
    "\n",
    "MEASUREMENT_INTERVAL_MINUTES = 5  # Interval for taking measurements in minutes\n",
    "\n",
    "FLOW_RATE_ML_PER_MINUTE = 3  # Flow rate of the pumps in mL/min\n",
    "\n",
    "PUMP_OUT_VOLUME_ML = 5\n",
    "PUMP_FOOD_VOLUME_ML = 2\n",
    "PUMP_DRUG_VOLUME_ML = 2\n",
    "\n",
    "OPTICAL_DENSITY_THRESHOLD = 0.5\n",
    "\n",
    "# Define measurements\n",
    "OPTICAL_DENSITY = \"optical_density\"\n",
    "TEMPERATURE = \"temperature\"\n",
    "\n",
    "# Define pump rotation directions\n",
    "IN = \"right\"\n",
    "OUT = \"left\""
   ]
  },
  {
   "cell_type": "code",
   "execution_count": null,
   "metadata": {},
   "outputs": [],
   "source": [
    "# Ensure intervals are valid\n",
    "assert (\n",
    "    SOLUTION_REFRESH_INTERVAL_MIN % MEASUREMENT_INTERVAL_MINUTES == 0\n",
    "), \"Solution refresh interval should be a multiple of measurement interval\"\n",
    "assert (\n",
    "    TOTAL_EXPERIMENT_DURATION_HOURS * 60\n",
    ") % SOLUTION_REFRESH_INTERVAL_MIN == 0, \"Total experiment duration should be a multiple of solution refresh interval\"\n",
    "\n",
    "# Calculate the number of solution refreshes and measurements per refresh\n",
    "n_solution_refreshes = (\n",
    "    TOTAL_EXPERIMENT_DURATION_HOURS * 60 // SOLUTION_REFRESH_INTERVAL_MIN\n",
    ")  # Number of solution refreshes\n",
    "n_measurements_per_solution_refresh = (\n",
    "    SOLUTION_REFRESH_INTERVAL_MIN // MEASUREMENT_INTERVAL_MINUTES\n",
    ")  # Number of measurements per refresh"
   ]
  },
  {
   "cell_type": "code",
   "execution_count": null,
   "metadata": {},
   "outputs": [],
   "source": [
    "# Retrieve connected devices by checking the serial ports\n",
    "pumps, spectrophotometers = get_connected_devices()\n",
    "\n",
    "# Unpack discovered devices\n",
    "(spectrophotometer,) = spectrophotometers  # Suppose we have one spectrophotometer"
   ]
  },
  {
   "cell_type": "code",
   "execution_count": null,
   "metadata": {},
   "outputs": [],
   "source": [
    "# Comparison of found pumps\n",
    "\n",
    "print(\"\"\"\n",
    "Please choose the role of currently rotating pump:\n",
    "\n",
    "1. Pump for removing waste\n",
    "2. Pump for feeding the bacteria\n",
    "3. Pump for adding the drug\n",
    "\"\"\")\n",
    "for pump in pumps:\n",
    "    pump.set_default_flow_rate(1)\n",
    "    pump.start_continuous_rotation(0.1)\n",
    "\n",
    "    role = input(\"Enter the number and press Enter: \")\n",
    "    if role == \"1\":\n",
    "        pump_out = pump\n",
    "    elif role == \"2\":\n",
    "        pump_food = pump\n",
    "    elif role == \"3\":\n",
    "        pump_drug = pump\n",
    "    else:\n",
    "        print(\"Invalid input. Please enter a number between 1 and 3\")\n",
    "\n",
    "    pump.stop_continuous_rotation()\n",
    "\n",
    "\n",
    "for name in [\"pump_out\", \"pump_food\", \"pump_drug\"]:\n",
    "    assert name in locals(), f\"Please assign a pump to the variable {name}\""
   ]
  },
  {
   "cell_type": "code",
   "execution_count": null,
   "metadata": {},
   "outputs": [],
   "source": [
    "# Initialize the experiment\n",
    "experiment = Experiment(\n",
    "    output_dir=\".\", # Define the output directory here before running the script\n",
    ")\n",
    "\n",
    "# Define the metrics\n",
    "optical_density_last_value = experiment.create_metric(\n",
    "    measurement_name=OPTICAL_DENSITY,\n",
    "    statistic=Statistic.LAST(),\n",
    ")\n",
    "\n",
    "# Define the conditions\n",
    "od_exceeded_threshold = Condition(\n",
    "    metric=optical_density_last_value,\n",
    "    relation=Relation.GREATER_THAN(OPTICAL_DENSITY_THRESHOLD),\n",
    ")\n",
    "od_not_exceeded_threshold = od_exceeded_threshold.negation"
   ]
  },
  {
   "cell_type": "code",
   "execution_count": null,
   "metadata": {},
   "outputs": [],
   "source": [
    "# Add the initial actions to pour out the excessive solution and pour in the food\n",
    "experiment.add_action(\n",
    "    pump_out.pour_in_volume, volume=PUMP_OUT_VOLUME_ML, flow_rate=FLOW_RATE_ML_PER_MINUTE, direction=OUT\n",
    ")\n",
    "experiment.add_action(\n",
    "    pump_food.pour_in_volume, volume=PUMP_FOOD_VOLUME_ML, flow_rate=FLOW_RATE_ML_PER_MINUTE, direction=IN\n",
    ")\n",
    "\n",
    "# Add the main experiment loop\n",
    "for _ in range(n_solution_refreshes):  # Loop over the number of solution refreshes\n",
    "    for _ in range(n_measurements_per_solution_refresh):  # Loop over the number of measurements per refresh\n",
    "        experiment.add_measurement(spectrophotometer.measure_optical_density, measurement_name=OPTICAL_DENSITY)\n",
    "        experiment.add_measurement(spectrophotometer.get_temperature, measurement_name=TEMPERATURE)\n",
    "\n",
    "        experiment.add_wait(MEASUREMENT_INTERVAL_MINUTES * 60)  # Wait for the measurement interval\n",
    "\n",
    "    experiment.add_action(\n",
    "        pump_out.pour_in_volume, volume=PUMP_OUT_VOLUME_ML, flow_rate=FLOW_RATE_ML_PER_MINUTE, direction=OUT\n",
    "    )\n",
    "\n",
    "    # Add the actions to pour in the drug or food based on the condition\n",
    "    experiment.add_action(\n",
    "        pump_drug.pour_in_volume,\n",
    "        volume=PUMP_DRUG_VOLUME_ML,\n",
    "        flow_rate=FLOW_RATE_ML_PER_MINUTE,\n",
    "        direction=IN,\n",
    "        condition=od_exceeded_threshold, # Only add the drug if the OD exceeded the threshold\n",
    "        info_log_message=\"Drug added\",\n",
    "    )\n",
    "    experiment.add_action(\n",
    "        pump_food.pour_in_volume,\n",
    "        volume=PUMP_FOOD_VOLUME_ML,\n",
    "        flow_rate=FLOW_RATE_ML_PER_MINUTE,\n",
    "        direction=IN,\n",
    "        condition=od_not_exceeded_threshold, # Only add the food if the OD did not exceed the threshold\n",
    "        info_log_message=\"Food added\",\n",
    "    )"
   ]
  },
  {
   "cell_type": "code",
   "execution_count": null,
   "metadata": {},
   "outputs": [],
   "source": [
    "experiment.start()  # Start the experiment in the background"
   ]
  },
  {
   "cell_type": "code",
   "execution_count": null,
   "metadata": {},
   "outputs": [],
   "source": [
    "experiment.stop()  # Stop the experiment"
   ]
  }
 ],
 "metadata": {
  "kernelspec": {
   "display_name": "bioexperiment-suite-isj8lbt3-py3.12",
   "language": "python",
   "name": "python3"
  },
  "language_info": {
   "codemirror_mode": {
    "name": "ipython",
    "version": 3
   },
   "file_extension": ".py",
   "mimetype": "text/x-python",
   "name": "python",
   "nbconvert_exporter": "python",
   "pygments_lexer": "ipython3",
   "version": "3.12.6"
  }
 },
 "nbformat": 4,
 "nbformat_minor": 2
}
